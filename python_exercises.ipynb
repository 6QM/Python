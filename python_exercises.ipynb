{
 "cells": [
  {
   "cell_type": "markdown",
   "source": [
    "# 001_字符菱形\n",
    "\n",
    "## 描述\n",
    "\n",
    "所谓角谷猜想，是指对于任意一个正整数，如果是奇数，则乘3加1，如果是偶数，则除以2，得到的结果再按照上述规则重复处理，最终总能够得到1。如，假定初始整数为5，计算过程分别为16、8、4、2、1。\n",
    "程序要求输入一个整数，将经过处理得到1的过程输出来。\n",
    "\n",
    "## 输入\n",
    "\n",
    "一个正整数N(N <= 2,000,000)\n",
    "\n",
    "## 输出\n",
    "\n",
    "从输入整数到1的步骤，每一步为一行，每一部中描述计算过程。最后一行输出\"End\"。如果输入为1，直接输出\"End\"。\n",
    "\n",
    "## 样例输入\n",
    "\n",
    "```\n",
    "5\n",
    "```\n",
    "## 样例输出\n",
    "\n",
    "```\n",
    "5*3+1=16\n",
    "\n",
    "\n",
    "16/2=8\n",
    "\n",
    "\n",
    "8/2=4\n",
    "\n",
    "\n",
    "4/2=2\n",
    "\n",
    "\n",
    "2/2=1\n",
    "\n",
    "\n",
    "End\n",
    "```"
   ],
   "metadata": {
    "collapsed": false
   }
  },
  {
   "cell_type": "markdown",
   "source": [
    "## Solution"
   ],
   "metadata": {
    "collapsed": false
   }
  },
  {
   "cell_type": "code",
   "execution_count": null,
   "outputs": [],
   "source": [
    "star = input()\n",
    "print(\"  \"+ star)  # 两个空格\n",
    "print(\" \"+ star*3) # 一个空格\n",
    "print(star*5) # 没有空格\n",
    "print(\" \"+ star*3) # 一个空格\n",
    "print(\"  \"+ star)  # 两个空格"
   ],
   "metadata": {
    "collapsed": false
   }
  },
  {
   "cell_type": "markdown",
   "source": [
    "# 002_字符三角形\n",
    "## 描述\n",
    "给定一个字符，用它构造一个底边长5个字符，高3个字符的等腰字符三角形。\n",
    "\n",
    "## 输入\n",
    "输入只有一行， 包含一个字符。\n",
    "\n",
    "## 输出\n",
    "该字符构成的等腰三角形，底边长5个字符，高3个字符。\n",
    "\n",
    "## 样例输入\n",
    "```\n",
    "*\n",
    "```\n",
    "\n",
    "## 样例输出\n",
    " ```\n",
    "  *\n",
    " ***\n",
    "*****\n",
    " ```"
   ],
   "metadata": {
    "collapsed": false
   }
  },
  {
   "cell_type": "code",
   "execution_count": null,
   "outputs": [],
   "source": [
    "star = input()\n",
    "print(\"  \"+ star)  # 2个空格\n",
    "print(\" \"+ star*3) # 1个空格\n",
    "print(star*5) # 没有空格"
   ],
   "metadata": {
    "collapsed": false
   }
  },
  {
   "cell_type": "markdown",
   "source": [
    "# 003_输出第二个整数\n",
    "\n",
    "## 描述\n",
    "输入三个整数，把第二个输入的整数输出。\n",
    "\n",
    "## 输入\n",
    "只有一行，共三个整数，整数之间由一个空格分隔。整数是32位有符号整数。\n",
    "\n",
    "## 输出\n",
    "只有一行，一个整数，即输入的第二个整数。\n",
    "\n",
    "## 样例输入\n",
    "```\n",
    "123 456 789\n",
    "```\n",
    "## 样例输出\n",
    "```\n",
    "456\n",
    "```"
   ],
   "metadata": {
    "collapsed": false
   }
  },
  {
   "cell_type": "markdown",
   "source": [
    "## Solution"
   ],
   "metadata": {
    "collapsed": false
   }
  },
  {
   "cell_type": "code",
   "execution_count": null,
   "outputs": [],
   "source": [
    "list = input().split()\n",
    "print(list[1])"
   ],
   "metadata": {
    "collapsed": false
   }
  },
  {
   "cell_type": "markdown",
   "source": [
    "# 004_求三个数的和\n",
    "## 描述\n",
    "输入三个整数或小数，输出它们的和\n",
    "\n",
    "如果结果是整数，就保留小数点后面一位的0(用python写则不用特别处理，程序自然会如此)\n",
    "\n",
    "## 输入\n",
    "输入三个整数或小数\n",
    "\n",
    "## 输出\n",
    "和\n",
    "\n",
    "## 样例输入\n",
    "```\n",
    "1 2.3 4.7\n",
    "```\n",
    "## 样例输出\n",
    "```\n",
    "8.0\n",
    "```"
   ],
   "metadata": {
    "collapsed": false
   }
  },
  {
   "cell_type": "markdown",
   "source": [
    "## Solution"
   ],
   "metadata": {
    "collapsed": false
   }
  },
  {
   "cell_type": "code",
   "execution_count": null,
   "outputs": [],
   "source": [
    "n = input().split()\n",
    "# a = float(n[0])\n",
    "# a = n/1.0\n",
    "print(float(n[0])+float(n[1])+float(n[2]))\n"
   ],
   "metadata": {
    "collapsed": false
   }
  },
  {
   "cell_type": "markdown",
   "source": [
    "# 005_判断子串\n",
    "## 描述\n",
    "输入两行字符串，要求判断第一行 字符串是不是第二行的子串\n",
    "\n",
    "## 输入\n",
    "两行字符串。字符串长度不超过100。\n",
    "\n",
    "## 输出\n",
    "如果第一行是第二行的子串，就输出 \"YES\"，否则输出\"NO\"\n",
    "\n",
    "## 样例输入\n",
    "```\n",
    "hello world\n",
    "this is hello world, it is ok.\n",
    "```\n",
    "## 样例输出\n",
    "```\n",
    "YES\n",
    "```\n",
    "## 提示\n",
    "python中每使用调用一次 input()，就输入一行的内容。输入内容有几行，就要用几次 input()\n"
   ],
   "metadata": {
    "collapsed": false
   }
  },
  {
   "cell_type": "markdown",
   "source": [
    "## Solution"
   ],
   "metadata": {
    "collapsed": false
   }
  },
  {
   "cell_type": "code",
   "execution_count": null,
   "outputs": [],
   "source": [
    "substr = input()  # 第一行：子串  # 解法 1\n",
    "mainstr = input()  # 第二行：为第一行的子串\n",
    "a = substr in mainstr  #选中多行进行注释：ctrl+/\n",
    "list = [\"NO\",\"YES\"]\n",
    "print(list[a])  # 借助列表的下标，以及真假与01的等价替换，来完成条件判断\n",
    "# if substr in mainstr:             # 解法 2 ，使用了条件语句\n",
    "#     print(\"Yes\")\n",
    "# else:\n",
    "#     print(\"No\")\n"
   ],
   "metadata": {
    "collapsed": false
   }
  }
 ],
 "metadata": {
  "kernelspec": {
   "display_name": "Python 3",
   "language": "python",
   "name": "python3"
  },
  "language_info": {
   "codemirror_mode": {
    "name": "ipython",
    "version": 2
   },
   "file_extension": ".py",
   "mimetype": "text/x-python",
   "name": "python",
   "nbconvert_exporter": "python",
   "pygments_lexer": "ipython2",
   "version": "2.7.6"
  }
 },
 "nbformat": 4,
 "nbformat_minor": 0
}
