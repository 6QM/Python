{
 "cells": [
  {
   "cell_type": "markdown",
   "source": [
    "# 001_字符菱形\n",
    "\n",
    "## 描述\n",
    "\n",
    "所谓角谷猜想，是指对于任意一个正整数，如果是奇数，则乘3加1，如果是偶数，则除以2，得到的结果再按照上述规则重复处理，最终总能够得到1。如，假定初始整数为5，计算过程分别为16、8、4、2、1。\n",
    "程序要求输入一个整数，将经过处理得到1的过程输出来。\n",
    "\n",
    "## 输入\n",
    "\n",
    "一个正整数N(N <= 2,000,000)\n",
    "\n",
    "## 输出\n",
    "\n",
    "从输入整数到1的步骤，每一步为一行，每一部中描述计算过程。最后一行输出\"End\"。如果输入为1，直接输出\"End\"。\n",
    "\n",
    "## 样例输入\n",
    "\n",
    "```\n",
    "5\n",
    "```\n",
    "## 样例输出\n",
    "\n",
    "```\n",
    "5*3+1=16\n",
    "\n",
    "\n",
    "16/2=8\n",
    "\n",
    "\n",
    "8/2=4\n",
    "\n",
    "\n",
    "4/2=2\n",
    "\n",
    "\n",
    "2/2=1\n",
    "\n",
    "\n",
    "End\n",
    "```"
   ],
   "metadata": {
    "collapsed": false
   }
  },
  {
   "cell_type": "markdown",
   "source": [
    "## Solution"
   ],
   "metadata": {
    "collapsed": false
   }
  },
  {
   "cell_type": "code",
   "execution_count": 1,
   "outputs": [
    {
     "name": "stdout",
     "output_type": "stream",
     "text": [
      "  \n",
      " \n",
      "\n",
      " \n",
      "  \n"
     ]
    }
   ],
   "source": [
    "star = input()\n",
    "print(\"  \"+ star)  # 两个空格\n",
    "print(\" \"+ star*3) # 一个空格\n",
    "print(star*5) # 没有空格\n",
    "print(\" \"+ star*3) # 一个空格\n",
    "print(\"  \"+ star)  # 两个空格"
   ],
   "metadata": {
    "collapsed": false
   }
  },
  {
   "cell_type": "markdown",
   "source": [],
   "metadata": {
    "collapsed": false
   }
  },
  {
   "cell_type": "markdown",
   "source": [
    "\n",
    "一个整数"
   ],
   "metadata": {
    "collapsed": false
   }
  },
  {
   "cell_type": "code",
   "execution_count": null,
   "outputs": [],
   "source": [],
   "metadata": {
    "collapsed": false
   }
  }
 ],
 "metadata": {
  "kernelspec": {
   "display_name": "Python 3",
   "language": "python",
   "name": "python3"
  },
  "language_info": {
   "codemirror_mode": {
    "name": "ipython",
    "version": 2
   },
   "file_extension": ".py",
   "mimetype": "text/x-python",
   "name": "python",
   "nbconvert_exporter": "python",
   "pygments_lexer": "ipython2",
   "version": "2.7.6"
  }
 },
 "nbformat": 4,
 "nbformat_minor": 0
}
